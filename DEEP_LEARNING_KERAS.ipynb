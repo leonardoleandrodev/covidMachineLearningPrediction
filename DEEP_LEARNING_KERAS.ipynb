{
  "nbformat": 4,
  "nbformat_minor": 0,
  "metadata": {
    "colab": {
      "name": "DEEP LEARNING KERAS.ipynb",
      "provenance": [],
      "collapsed_sections": [],
      "authorship_tag": "ABX9TyNKDwc0J6yPN20Z95pwg5b6",
      "include_colab_link": true
    },
    "kernelspec": {
      "display_name": "Python 3",
      "name": "python3"
    },
    "language_info": {
      "name": "python"
    }
  },
  "cells": [
    {
      "cell_type": "markdown",
      "metadata": {
        "id": "view-in-github",
        "colab_type": "text"
      },
      "source": [
        "<a href=\"https://colab.research.google.com/github/leonardoleandrodev/covidMachineLearningPrediction/blob/main/DEEP_LEARNING_KERAS.ipynb\" target=\"_parent\"><img src=\"https://colab.research.google.com/assets/colab-badge.svg\" alt=\"Open In Colab\"/></a>"
      ]
    },
    {
      "cell_type": "code",
      "metadata": {
        "id": "cwXRjSAfApAp"
      },
      "source": [
        "from numpy import loadtxt\n",
        "import numpy as np\n",
        "from keras.models import Sequential\n",
        "from keras.layers import Dense\n",
        "from pandas import read_csv as rc,factorize as fc,to_numeric as tnum,set_option as op"
      ],
      "execution_count": null,
      "outputs": []
    },
    {
      "cell_type": "code",
      "metadata": {
        "id": "f1JklHU2AzQx",
        "colab": {
          "base_uri": "https://localhost:8080/"
        },
        "outputId": "677a4973-2cf5-47f5-e1c8-02a06468aa5c"
      },
      "source": [
        "# dados do site https://opendatasus.saude.gov.br/dataset/bd-srag-2021\n",
        "urlfile = 'https://opendatasus.saude.gov.br/dataset/9f76e80f-a2f1-4662-9e37-71084eae23e3/resource/42bd5e0e-d61a-4359-942e-ebc83391a137/download/influd21-18-06-2021.csv'\n",
        "#https://opendatasus.saude.gov.br/dataset/9f76e80f-a2f1-4662-9e37-71084eae23e3/resource/b3321e55-24e9-49ab-8651-29cf5c8f3179/download/dicionario_de_dados_srag_hospitalizado_23.03.2021.pdf\n",
        "dataset = rc(urlfile, delimiter=';',encoding='ISO-8859-1')\n"
      ],
      "execution_count": null,
      "outputs": [
        {
          "output_type": "stream",
          "text": [
            "/usr/local/lib/python3.7/dist-packages/IPython/core/interactiveshell.py:2718: DtypeWarning: Columns (15,18,60,62,63,64,92,94,106,108,115,117,118,119,123,144,160) have mixed types.Specify dtype option on import or set low_memory=False.\n",
            "  interactivity=interactivity, compiler=compiler, result=result)\n"
          ],
          "name": "stderr"
        }
      ]
    },
    {
      "cell_type": "code",
      "metadata": {
        "id": "ng_s1fHuqV-R"
      },
      "source": [
        "op('display.max_columns', None)\n",
        "dataset.head(10)\n"
      ],
      "execution_count": null,
      "outputs": []
    },
    {
      "cell_type": "code",
      "metadata": {
        "id": "WYMvGU27g6vP"
      },
      "source": [
        "amostra = dataset[\n",
        "                  ['CS_SEXO','NU_IDADE_N','FEBRE','TOSSE',\n",
        "                   'GARGANTA','DIARREIA','VOMITO','OUTRO_SIN',\n",
        "                   'CARDIOPATI','HEMATOLOGI','HEPATICA','ASMA',\n",
        "                   'DIABETES','PNEUMOPATI','RENAL','OBESIDADE',\n",
        "                   'ANTIVIRAL','UTI','DOR_ABD','FADIGA'\n",
        "                   ,'PERD_OLFT','PERD_PALA','EVOLUCAO','CLASSI_FIN']]#[1:10000]\n",
        "amostra = amostra.dropna()\n",
        "#amostra['IdadeNaDataNotificacao'] = [int(idade.split(' ')[0]) for idade in amostra['IdadeNaDataNotificacao']]\n",
        "#amostra['IdadeNaDataNotificacao'] = [int(idade.split(' ')[0]) for idade in amostra['IdadeNaDataNotificacao']]\n",
        "#amostra = amostra.drop(amostra[amostra.ResultadoTesteRapido == 'Não Informado'].index)\n",
        "#amostra = amostra.drop(amostra[amostra.ResultadoTesteRapido == 'Inconclusivo'].index)\n",
        "#amostra = amostra.drop(amostra[amostra.ComorbidadePulmao == '-'].index)\n",
        "#amostra = amostra.drop(amostra[amostra.RacaCor == 'Ignorado'].index)\n",
        "amostra = amostra.drop(amostra[amostra.NU_IDADE_N < 20 ].index)\n",
        "amostra = amostra.drop(amostra[amostra.EVOLUCAO > 2 ].index)\n",
        "amostra = amostra.drop(amostra[amostra.FEBRE > 2 ].index)\n",
        "amostra = amostra.drop(amostra[amostra.TOSSE > 2 ].index)\n",
        "amostra = amostra.drop(amostra[amostra.GARGANTA > 2 ].index)\n",
        "amostra = amostra.drop(amostra[amostra.FADIGA > 2 ].index)\n",
        "amostra = amostra.drop(amostra[amostra.PERD_OLFT > 2 ].index)\n",
        "amostra = amostra.drop(amostra[amostra.PERD_PALA > 2 ].index)\n",
        "amostra = amostra.drop(amostra[amostra.UTI > 2 ].index)\n",
        "#amostra = amostra.drop(amostra[amostra.Classificacao == 'Suspeito' ].index)\n",
        "#amostra = amostra.drop(amostra[amostra.Evolucao == 'Ignorado'].index)\n",
        "#amostra = amostra.drop(amostra[amostra.Evolucao == '-'].index)\n",
        "#amostra = amostra.drop(amostra[amostra.Evolucao == 'Óbito por outras causas'].index)\n",
        "\n",
        "amostra.head()\n"
      ],
      "execution_count": null,
      "outputs": []
    },
    {
      "cell_type": "code",
      "metadata": {
        "id": "2MKrgKL_msR3"
      },
      "source": [
        "colunas = ['FADIGA','PERD_OLFT','PERD_PALA','CLASSI_FIN','UTI']\n",
        "classe = colunas[-1]\n",
        "amostrax = amostra[colunas]\n",
        "\n",
        "amostrax['CLASSI_FIN'] = amostrax['CLASSI_FIN']#.apply(lambda x: 1 if x == 5.0 else 0)\n",
        "#amostrax['CS_SEXO'] = amostrax['CS_SEXO'].replace('F',0).replace('M',1)\n",
        "#amostrax = amostrax[[c for c in colunas]]\n",
        "#amostrax['NU_IDADE_N'] = [round(idd/10)*10 for idd  in amostrax['NU_IDADE_N']]\n",
        "dados = amostrax.replace(1.0,1).replace(2.0,0)\n",
        "\n",
        "#dados[colunas] = dados[colunas].astype(int)\n",
        "del dados[classe]\n",
        "resnegposi = dados[colunas[:-1]].sum(axis=1).apply(lambda x: 1 if x > 6.0 else 0)\n",
        "#amostrax[[classe]].replace(1.0,1).replace(2.0,0)#.replace('Descartados',0).replace('Confirmados',1).replace('Negativo',0).replace('Positivo',1)\n",
        "dados[20:].head(10) \n",
        "resnegposi.head()"
      ],
      "execution_count": null,
      "outputs": []
    },
    {
      "cell_type": "code",
      "metadata": {
        "id": "cJgSKk3xxtDr"
      },
      "source": [
        "\n",
        "dadosX = dados.apply(lambda col: fc(col)[0] if col.name == 'CS_SEXO' else col)\n",
        "dadosX = dadosX.apply(tnum)\n",
        "resnegposiY = resnegposi#.apply(lambda col: fc(col)[0])\n",
        "\n",
        "#resnegposiY.info()"
      ],
      "execution_count": null,
      "outputs": []
    },
    {
      "cell_type": "code",
      "metadata": {
        "id": "6wPiRIl-ygyG"
      },
      "source": [
        "from sklearn.model_selection import train_test_split\n",
        "val_treino,val_teste,val_res_treino,val_res_teste = train_test_split(dadosX,resnegposiY,test_size=0.001,train_size=0.01)\n",
        "(len(val_treino),len(val_teste))"
      ],
      "execution_count": null,
      "outputs": []
    },
    {
      "cell_type": "code",
      "metadata": {
        "id": "H6eQX12PA-Wj"
      },
      "source": [
        "# definir o modelo com keras\n",
        "# inicializar o modelo sequencial\n",
        "model = Sequential()\n",
        "# inicializar a primeira camada, com 12 neurÃ´nios, 8 entradas utilizando a funÃ§Ã£o ReLU\n",
        "model.add(Dense(7, input_dim=(len(val_treino.columns)), activation='relu'))\n",
        "# inicializar a segunda camada com 8 neurÃ´nios e a funÃ§Ã£o ReLU\n",
        "#model.add(Dense(20, activation='relu'))\n",
        "#model.add(Dense(20, activation='relu'))\n",
        "#model.add(Dense(len(val_treino.columns), activation='relu'))\n",
        "# inicializar a Ãºltima camada (camada de saÃ­da) com um neurÃ´nio e a funÃ§Ã£o Sigmoid\n",
        "model.add(Dense(1, activation='sigmoid'))"
      ],
      "execution_count": null,
      "outputs": []
    },
    {
      "cell_type": "code",
      "metadata": {
        "id": "_Gg9yr8lBAN7"
      },
      "source": [
        "# compile the keras model\n",
        "model.compile(loss='binary_crossentropy', optimizer='adam', metrics=['accuracy'])\n"
      ],
      "execution_count": null,
      "outputs": []
    },
    {
      "cell_type": "code",
      "metadata": {
        "id": "96lc-3jxBCHE"
      },
      "source": [
        "# treinar o modelo keras\n",
        "\n",
        "model.fit(val_treino, val_res_treino, epochs=150, batch_size=10,use_multiprocessing=False,verbose=1)\n"
      ],
      "execution_count": null,
      "outputs": []
    },
    {
      "cell_type": "code",
      "metadata": {
        "id": "p7dWlH3vHd8g"
      },
      "source": [
        "predictions = model.predict(val_teste)\n",
        "sum = 0.0\n",
        "for k in predictions:\n",
        "  sum += k\n",
        "\n",
        "md = (sum /len(predictions))-0.05\n",
        "print(md)\n",
        "predictionsi = [0 if p < 0.5 else 1 for p in predictions]\n",
        "from sklearn.metrics import confusion_matrix,accuracy_score\n",
        "accuracy = accuracy_score(val_res_teste, predictionsi)\n",
        "mt = confusion_matrix(val_res_teste, predictionsi)\n",
        "print(mt,f'acuracia de {accuracy} %')\n",
        "for i,x in enumerate(predictionsi):\n",
        "  if x != val_res_teste.values[i]:\n",
        "    print(val_teste.values[i][0:],predictions[i],x,val_res_teste.values[i])\n",
        "  #print(f'data={val_teste.values[i]} {predictions[i]}% {val_res_teste.values[i]} {x}')\n"
      ],
      "execution_count": null,
      "outputs": []
    }
  ]
}